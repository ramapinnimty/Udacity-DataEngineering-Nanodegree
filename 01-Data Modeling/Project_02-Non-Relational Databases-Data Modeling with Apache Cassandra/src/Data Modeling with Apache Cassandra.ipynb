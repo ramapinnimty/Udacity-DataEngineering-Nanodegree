{
 "cells": [
  {
   "cell_type": "markdown",
   "metadata": {},
   "source": [
    "# Part I. ETL Pipeline for Pre-Processing the Files"
   ]
  },
  {
   "cell_type": "markdown",
   "metadata": {},
   "source": [
    "#### Import Python packages "
   ]
  },
  {
   "cell_type": "code",
   "execution_count": 1,
   "metadata": {},
   "outputs": [],
   "source": [
    "# Import Python packages\n",
    "import numpy as np\n",
    "import pandas as pd\n",
    "import cassandra\n",
    "import glob\n",
    "import json\n",
    "import csv\n",
    "import os\n",
    "import re"
   ]
  },
  {
   "cell_type": "markdown",
   "metadata": {},
   "source": [
    "#### Creating list of filepaths to process original event csv data files"
   ]
  },
  {
   "cell_type": "code",
   "execution_count": 2,
   "metadata": {},
   "outputs": [
    {
     "name": "stdout",
     "output_type": "stream",
     "text": [
      "/home/workspace\n"
     ]
    }
   ],
   "source": [
    "# Checking your current working directory\n",
    "print(os.getcwd())\n",
    "\n",
    "# Get your current folder and subfolder event data\n",
    "filepath = os.getcwd() + '/event_data'\n",
    "\n",
    "# Create a for loop to create a list of files and collect each filepath\n",
    "for root, dirs, files in os.walk(filepath):\n",
    "    # Join the file path and roots with the subdirectories using glob\n",
    "    file_path_list = glob.glob(os.path.join(root,'*'))\n",
    "#     print(file_path_list)"
   ]
  },
  {
   "cell_type": "markdown",
   "metadata": {},
   "source": [
    "#### Processing the files to create the data file csv that will be used for Apache Casssandra tables"
   ]
  },
  {
   "cell_type": "code",
   "execution_count": 3,
   "metadata": {},
   "outputs": [],
   "source": [
    "# Initiating an empty list of rows that will be generated from each file\n",
    "full_data_rows_list = []\n",
    "\n",
    "# For every filepath in the file path list\n",
    "for f in file_path_list:\n",
    "    # Reading csv file\n",
    "    with open(f, 'r', encoding = 'utf8', newline='') as csvfile:\n",
    "        # Creating a csv reader object\n",
    "        csvreader = csv.reader(csvfile)\n",
    "        next(csvreader)\n",
    "\n",
    "        # Extract each data row one-by-one and append it        \n",
    "        for line in csvreader:\n",
    "#             print(line)\n",
    "            full_data_rows_list.append(line)\n",
    "\n",
    "# Uncomment the code below if you would like to get the total number of rows \n",
    "# print(len(full_data_rows_list))\n",
    "\n",
    "# Uncomment the code below if you would like to check to see what the list of event data rows will look like\n",
    "# print(full_data_rows_list)\n",
    "\n",
    "# Creating a smaller event data csv file called `event_datafile_new.csv` that will be used to \\\n",
    "# insert data into the Apache Cassandra tables\n",
    "csv.register_dialect('myDialect', quoting=csv.QUOTE_ALL, skipinitialspace=True)\n",
    "\n",
    "with open('event_datafile_new.csv', 'w', encoding = 'utf8', newline='') as f:\n",
    "    writer = csv.writer(f, dialect='myDialect')\n",
    "    writer.writerow(['artist', 'firstName', 'gender', 'itemInSession', 'lastName', \\\n",
    "                     'length', 'level', 'location', 'sessionId', 'song', 'userId'])\n",
    "\n",
    "    for row in full_data_rows_list:\n",
    "        if (row[0] == ''):\n",
    "            continue\n",
    "        writer.writerow((row[0], row[2], row[3], row[4], row[5], row[6], row[7], row[8], row[12], row[13], row[16]))"
   ]
  },
  {
   "cell_type": "code",
   "execution_count": 4,
   "metadata": {},
   "outputs": [
    {
     "name": "stdout",
     "output_type": "stream",
     "text": [
      "6821\n"
     ]
    }
   ],
   "source": [
    "# Check the number of rows in your csv file\n",
    "with open('event_datafile_new.csv', 'r', encoding = 'utf8') as f:\n",
    "    print(sum(1 for line in f))"
   ]
  },
  {
   "cell_type": "markdown",
   "metadata": {},
   "source": [
    "# Part II. Creating tables usingApache Cassandra"
   ]
  },
  {
   "cell_type": "markdown",
   "metadata": {},
   "source": [
    "#### Creating a Cluster"
   ]
  },
  {
   "cell_type": "code",
   "execution_count": 5,
   "metadata": {},
   "outputs": [],
   "source": [
    "# Make a connection to a Cassandra instance\n",
    "from cassandra.cluster import Cluster\n",
    "cluster = Cluster()\n",
    "\n",
    "# To establish connection and begin executing queries, we need a session\n",
    "session = cluster.connect()"
   ]
  },
  {
   "cell_type": "markdown",
   "metadata": {},
   "source": [
    "#### Create Keyspace"
   ]
  },
  {
   "cell_type": "code",
   "execution_count": 6,
   "metadata": {},
   "outputs": [],
   "source": [
    "# Create a Keyspace\n",
    "try:\n",
    "    session.execute(\"\"\"\n",
    "    CREATE KEYSPACE IF NOT EXISTS sparkifydb \n",
    "    WITH REPLICATION = { 'class' : 'SimpleStrategy', 'replication_factor' : 1 }\n",
    "    \"\"\")\n",
    "except Exception as e:\n",
    "    print(e)"
   ]
  },
  {
   "cell_type": "markdown",
   "metadata": {},
   "source": [
    "#### Set Keyspace"
   ]
  },
  {
   "cell_type": "code",
   "execution_count": 7,
   "metadata": {},
   "outputs": [],
   "source": [
    "# Set KEYSPACE to the keyspace specified above\n",
    "try:\n",
    "    session.set_keyspace('sparkifydb')\n",
    "except Exception as e:\n",
    "    print(e)"
   ]
  },
  {
   "cell_type": "markdown",
   "metadata": {},
   "source": [
    "## Create queries to ask the following three questions of the data"
   ]
  },
  {
   "cell_type": "markdown",
   "metadata": {},
   "source": [
    "### QUERY-1\n",
    "Give me the artist, song title and song's length in the music app history that was heard during  sessionId = 338, and itemInSession  = 4.\n",
    "\n",
    "`SELECT artist, song, length FROM song_details WHERE sessionId = 338 AND itemInSession = 4;`"
   ]
  },
  {
   "cell_type": "markdown",
   "metadata": {},
   "source": [
    "#### CREATE Statement"
   ]
  },
  {
   "cell_type": "code",
   "execution_count": 8,
   "metadata": {},
   "outputs": [],
   "source": [
    "## Create Statement\n",
    "create_query_1 = \"\"\"\n",
    "        CREATE TABLE IF NOT EXISTS song_details (\n",
    "        sessionId INT, itemInSession INT, \n",
    "        artist TEXT, song TEXT, length FLOAT, \n",
    "        PRIMARY KEY (sessionId, itemInSession))\n",
    "        \"\"\"\n",
    "try:\n",
    "    session.execute(create_query_1)\n",
    "except Exception as e:\n",
    "    print(e)"
   ]
  },
  {
   "cell_type": "markdown",
   "metadata": {},
   "source": [
    "#### Insert Statement"
   ]
  },
  {
   "cell_type": "markdown",
   "metadata": {},
   "source": [
    "COLUMNS: -\n",
    "`artist`: 0, `firstName`: 1, `gender`: 2,\n",
    "`itemInSession`: 3, `lastName`: 4, `length`: 5,\n",
    "`level`: 6, `location`: 7, `sessionId`: 8, `song`: 9, `userId`: 10"
   ]
  },
  {
   "cell_type": "code",
   "execution_count": 9,
   "metadata": {
    "scrolled": false
   },
   "outputs": [],
   "source": [
    "file = 'event_datafile_new.csv'\n",
    "with open(file, encoding = 'utf8') as f:\n",
    "    csvreader = csv.reader(f)\n",
    "    next(csvreader) # skip header\n",
    "\n",
    "    for line in csvreader:\n",
    "        ## Assign the INSERT statement\n",
    "        insert_query_1 = \"\"\"\n",
    "        INSERT INTO song_details (sessionId, itemInSession, artist, song, length)\n",
    "        VALUES (%s, %s, %s, %s, %s)\n",
    "        \"\"\"\n",
    "        ## Assign which column element should be assigned for each column in the INSERT statement.\n",
    "        session.execute(insert_query_1, (int(line[8]), int(line[3]), line[0], line[9], float(line[5])))"
   ]
  },
  {
   "cell_type": "markdown",
   "metadata": {},
   "source": [
    "# Learnings: \n",
    "- Encountered a `SyntaxException`.\n",
    "\n",
    "  SOLUTION: - Don't forget to *convert the data types* after reading from the CSV file."
   ]
  },
  {
   "cell_type": "markdown",
   "metadata": {},
   "source": [
    "#### SELECT Statement"
   ]
  },
  {
   "cell_type": "code",
   "execution_count": 10,
   "metadata": {
    "scrolled": true
   },
   "outputs": [
    {
     "name": "stdout",
     "output_type": "stream",
     "text": [
      "Faithless | Music Matters (Mark Knight Dub) | 495.30731201171875\n"
     ]
    }
   ],
   "source": [
    "## Add in the SELECT statement to verify the data was entered into the table correctly\n",
    "select_query_1 = \"SELECT artist, song, length FROM song_details WHERE sessionId = %s AND itemInSession = %s\"\n",
    "try:\n",
    "    rows = session.execute(select_query_1, (338, 4))\n",
    "except Exception as e:\n",
    "    print(e)\n",
    "\n",
    "for row in rows:\n",
    "    print(row.artist, \"|\", row.song, \"|\", row.length)"
   ]
  },
  {
   "cell_type": "markdown",
   "metadata": {},
   "source": [
    "### QUERY-2\n",
    "Give me only the following: name of artist, song (sorted by itemInSession) and user (first and last name) for userid = 10, sessionid = 182.\n",
    "\n",
    "`SELECT artist, song, firstName, lastName FROM listening_history WHERE userId = 10 AND sessionId = 182;`"
   ]
  },
  {
   "cell_type": "markdown",
   "metadata": {},
   "source": [
    "#### CREATE Statement"
   ]
  },
  {
   "cell_type": "code",
   "execution_count": 11,
   "metadata": {},
   "outputs": [],
   "source": [
    "## Create Statement\n",
    "create_query_2 = \"\"\"\n",
    "        CREATE TABLE IF NOT EXISTS listening_history (\n",
    "        userId INT, sessionId INT, itemInSession INT, \n",
    "        artist TEXT, song TEXT, firstName TEXT, lastName TEXT, \n",
    "        PRIMARY KEY (userId, sessionId, itemInSession))\n",
    "        \"\"\"\n",
    "try:\n",
    "    session.execute(create_query_2)\n",
    "except Exception as e:\n",
    "    print(e)"
   ]
  },
  {
   "cell_type": "markdown",
   "metadata": {},
   "source": [
    "#### INSERT Statement"
   ]
  },
  {
   "cell_type": "markdown",
   "metadata": {},
   "source": [
    "COLUMNS: -\n",
    "`artist`: 0, `firstName`: 1, `gender`: 2,\n",
    "`itemInSession`: 3, `lastName`: 4, `length`: 5,\n",
    "`level`: 6, `location`: 7, `sessionId`: 8, `song`: 9, `userId`: 10"
   ]
  },
  {
   "cell_type": "code",
   "execution_count": 12,
   "metadata": {},
   "outputs": [],
   "source": [
    "file = 'event_datafile_new.csv'\n",
    "with open(file, encoding = 'utf8') as f:\n",
    "    csvreader = csv.reader(f)\n",
    "    next(csvreader) # skip header\n",
    "\n",
    "    for line in csvreader:\n",
    "        ## Assign the INSERT statement\n",
    "        insert_query_2 = \"\"\"\n",
    "        INSERT INTO listening_history (userId, sessionId, itemInSession, artist, song, firstName, lastName)\n",
    "        VALUES (%s, %s, %s, %s, %s, %s, %s)\n",
    "        \"\"\"\n",
    "        ## Assign which column element should be assigned for each column in the INSERT statement.\n",
    "        session.execute(insert_query_2, (int(line[10]), int(line[8]), int(line[3]), line[0], line[9], line[1], line[4]))\n"
   ]
  },
  {
   "cell_type": "markdown",
   "metadata": {},
   "source": [
    "#### SELECT Statement"
   ]
  },
  {
   "cell_type": "code",
   "execution_count": 13,
   "metadata": {
    "scrolled": true
   },
   "outputs": [
    {
     "name": "stdout",
     "output_type": "stream",
     "text": [
      "Down To The Bone | Keep On Keepin' On | Sylvie | Cruz\n",
      "Three Drives | Greece 2000 | Sylvie | Cruz\n",
      "Sebastien Tellier | Kilometer | Sylvie | Cruz\n",
      "Lonnie Gordon | Catch You Baby (Steve Pitron & Max Sanna Radio Edit) | Sylvie | Cruz\n"
     ]
    }
   ],
   "source": [
    "## Add in the SELECT statement to verify the data was entered into the table correctly\n",
    "select_query_2 = \"SELECT artist, song, firstName, lastName FROM listening_history WHERE userId = %s AND sessionId = %s\"\n",
    "try:\n",
    "    rows = session.execute(select_query_2, (10, 182))\n",
    "except Exception as e:\n",
    "    print(e)\n",
    "\n",
    "# From Knowledge: https://knowledge.udacity.com/questions/45076\n",
    "for row in rows:\n",
    "    print(row.artist, \"|\", row.song, \"|\", row.firstname, \"|\", row.lastname)\n"
   ]
  },
  {
   "cell_type": "markdown",
   "metadata": {},
   "source": [
    "### Query-3\n",
    "Give me every user name (first and last) in my music app history who listened to the song 'All Hands Against His Own'.\n",
    "\n",
    "`SELECT firstName, lastName FROM user_history WHERE song = \"All Hands Against His Own\";`"
   ]
  },
  {
   "cell_type": "markdown",
   "metadata": {},
   "source": [
    "#### CREATE Statement"
   ]
  },
  {
   "cell_type": "markdown",
   "metadata": {},
   "source": [
    "# Learnings: \n",
    "Some examples of primary key definition are:\n",
    "\n",
    "- `PRIMARY KEY (a)` :  `a` is the single partition key and there are no clustering columns.\n",
    "\n",
    "- `PRIMARY KEY (a, b, c)` : `a` is the single partition key and `b` and `c` are the clustering columns.\n",
    "\n",
    "- `PRIMARY KEY ((a, b), c)` : `a` and `b` compose the *composite partition key* and `c` is the clustering column.\n",
    "\n",
    "&rarr; The primary key uniquely identifies a row in the table, as described above. A consequence of this uniqueness is that if another row is inserted using the same primary key, then an `UPSERT` occurs and an existing row with the same primary key is **replaced**. Columns that are not part of the primary key cannot define uniqueness."
   ]
  },
  {
   "cell_type": "code",
   "execution_count": 14,
   "metadata": {},
   "outputs": [],
   "source": [
    "## Create Statement\n",
    "# Useful resource : https://cassandra.apache.org/doc/latest/cassandra/cql/ddl.html#primary-key\n",
    "create_query_3 = \"\"\"\n",
    "        CREATE TABLE IF NOT EXISTS user_history (\n",
    "        song TEXT, userId INT, firstName TEXT, lastName TEXT, \n",
    "        PRIMARY KEY ((song), userId))\n",
    "        \"\"\"\n",
    "try:\n",
    "    session.execute(create_query_3)\n",
    "except Exception as e:\n",
    "    print(e)"
   ]
  },
  {
   "cell_type": "markdown",
   "metadata": {},
   "source": [
    "#### INSERT Statement"
   ]
  },
  {
   "cell_type": "markdown",
   "metadata": {},
   "source": [
    "COLUMNS: -\n",
    "`artist`: 0, `firstName`: 1, `gender`: 2,\n",
    "`itemInSession`: 3, `lastName`: 4, `length`: 5,\n",
    "`level`: 6, `location`: 7, `sessionId`: 8, `song`: 9, `userId`: 10"
   ]
  },
  {
   "cell_type": "code",
   "execution_count": 15,
   "metadata": {},
   "outputs": [],
   "source": [
    "file = 'event_datafile_new.csv'\n",
    "with open(file, encoding = 'utf8') as f:\n",
    "    csvreader = csv.reader(f)\n",
    "    next(csvreader) # skip header\n",
    "\n",
    "    for line in csvreader:\n",
    "        ## Assign the INSERT statement\n",
    "        insert_query_3 = \"\"\"\n",
    "        INSERT INTO user_history (song, userId, firstName, lastName)\n",
    "        VALUES (%s, %s, %s, %s)\n",
    "        \"\"\"\n",
    "        ## Assign which column element should be assigned for each column in the INSERT statement.\n",
    "        session.execute(insert_query_3, (line[9], int(line[10]), line[1], line[4]))"
   ]
  },
  {
   "cell_type": "markdown",
   "metadata": {},
   "source": [
    "#### SELECT Statement"
   ]
  },
  {
   "cell_type": "code",
   "execution_count": 16,
   "metadata": {},
   "outputs": [
    {
     "name": "stdout",
     "output_type": "stream",
     "text": [
      "Jacqueline | Lynch\n",
      "Tegan | Levine\n",
      "Sara | Johnson\n"
     ]
    }
   ],
   "source": [
    "## Add in the SELECT statement to verify the data was entered into the table correctly\n",
    "select_query_3 = \"SELECT firstName, lastName FROM user_history WHERE song = %s\"\n",
    "try:\n",
    "    # NOTE: Take a note of the comma. Else, we will get \"not all arguments converted during string formatting\" warning\n",
    "    rows = session.execute(select_query_3, (\"All Hands Against His Own\",))\n",
    "except Exception as e:\n",
    "    print(e)\n",
    "\n",
    "for row in rows:\n",
    "    print(row.firstname, \"|\", row.lastname)"
   ]
  },
  {
   "cell_type": "markdown",
   "metadata": {},
   "source": [
    "### Drop the tables before closing out the sessions"
   ]
  },
  {
   "cell_type": "code",
   "execution_count": 17,
   "metadata": {},
   "outputs": [],
   "source": [
    "drop_query_1 = \"DROP TABLE IF EXISTS song_details\"\n",
    "try:\n",
    "    rows = session.execute(drop_query_1)\n",
    "except Exception as e:\n",
    "    print(e)\n",
    "\n",
    "drop_query_2 = \"DROP TABLE IF EXISTS listening_history\"\n",
    "try:\n",
    "    rows = session.execute(drop_query_2)\n",
    "except Exception as e:\n",
    "    print(e)\n",
    "\n",
    "drop_query_3 = \"DROP TABLE IF EXISTS user_history\"\n",
    "try:\n",
    "    rows = session.execute(drop_query_3)\n",
    "except Exception as e:\n",
    "    print(e)"
   ]
  },
  {
   "cell_type": "markdown",
   "metadata": {},
   "source": [
    "### Close the session and cluster connection¶"
   ]
  },
  {
   "cell_type": "code",
   "execution_count": 18,
   "metadata": {},
   "outputs": [],
   "source": [
    "session.shutdown()\n",
    "cluster.shutdown()"
   ]
  }
 ],
 "metadata": {
  "kernelspec": {
   "display_name": "Python 3",
   "language": "python",
   "name": "python3"
  },
  "language_info": {
   "codemirror_mode": {
    "name": "ipython",
    "version": 3
   },
   "file_extension": ".py",
   "mimetype": "text/x-python",
   "name": "python",
   "nbconvert_exporter": "python",
   "pygments_lexer": "ipython3",
   "version": "3.6.3"
  }
 },
 "nbformat": 4,
 "nbformat_minor": 2
}
